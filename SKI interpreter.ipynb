{
 "cells": [
  {
   "cell_type": "code",
   "execution_count": 43,
   "metadata": {
    "collapsed": false
   },
   "outputs": [],
   "source": [
    "\n",
    "\n",
    "def get_term(string):\n",
    "    if string == \"\":\n",
    "        return None\n",
    "    else:\n",
    "        n = 1\n",
    "        for idx, x in enumerate(string):\n",
    "            if x == \"(\":\n",
    "                n += 1\n",
    "            else:\n",
    "                n -= 1\n",
    "                if n == 0:\n",
    "                    return string[:idx + 1], string[idx + 1:]\n",
    "                \n",
    "        return \"wut\"\n",
    "\n",
    "def operate(string):\n",
    "    if string == \"\":\n",
    "        return string\n",
    "    if string[0] == \"(\":\n",
    "        return string[1:]\n",
    "    if string[0] == \"I\" and len(string) > 1:\n",
    "        return string[1:]\n",
    "    if string[0] == \"K\":\n",
    "        if get_term(string[1:]):\n",
    "            (first, notFirst) = get_term(string[1:])\n",
    "            if notFirst:\n",
    "                (second, notSecond) = get_term(notFirst)\n",
    "                return first + notSecond\n",
    "    if string[0] == \"S\":\n",
    "        if get_term(string[1:]):\n",
    "            (first, notFirst) = get_term(string[1:])\n",
    "            if notFirst:\n",
    "                (second, notSecond) = get_term(notFirst)\n",
    "                if notSecond:\n",
    "                    (third, notThird) = get_term(notSecond)\n",
    "                    return \"(\" + first + third + \"(\" + second + third + notThird \n",
    "    return string\n",
    "\n",
    "def repeatedly_operate(string):\n",
    "    print(string)\n",
    "    operated = operate(string)\n",
    "\n",
    "    if operated != string:\n",
    "        repeatedly_operate(operated)\n"
   ]
  },
  {
   "cell_type": "code",
   "execution_count": 39,
   "metadata": {
    "collapsed": false
   },
   "outputs": [
    {
     "data": {
      "text/plain": [
       "('((K(ISS', 'KK')"
      ]
     },
     "execution_count": 39,
     "metadata": {},
     "output_type": "execute_result"
    }
   ],
   "source": [
    "get_term(\"((K(ISSKK\")"
   ]
  },
  {
   "cell_type": "code",
   "execution_count": 40,
   "metadata": {
    "collapsed": false
   },
   "outputs": [
    {
     "data": {
      "text/plain": [
       "''"
      ]
     },
     "execution_count": 40,
     "metadata": {},
     "output_type": "execute_result"
    }
   ],
   "source": [
    "\"\"[1:]"
   ]
  },
  {
   "cell_type": "code",
   "execution_count": 46,
   "metadata": {
    "collapsed": false
   },
   "outputs": [
    {
     "name": "stdout",
     "output_type": "stream",
     "text": [
      "S(K(SIKKKS\n",
      "((K(SIK(KKKS\n",
      "(K(SIK(KKKS\n",
      "K(SIK(KKKS\n",
      "(SI(KKKS\n",
      "SI(KKKS\n",
      "(IK((KKKS\n",
      "IK((KKKS\n",
      "K((KKKS\n",
      "((KKK\n",
      "(KKK\n",
      "KKK\n",
      "K\n"
     ]
    }
   ],
   "source": [
    "repeatedly_operate(\"S(K(SIKKKS\")"
   ]
  },
  {
   "cell_type": "code",
   "execution_count": null,
   "metadata": {
    "collapsed": true
   },
   "outputs": [],
   "source": []
  }
 ],
 "metadata": {
  "kernelspec": {
   "display_name": "Python 3",
   "language": "python",
   "name": "python3"
  },
  "language_info": {
   "codemirror_mode": {
    "name": "ipython",
    "version": 3
   },
   "file_extension": ".py",
   "mimetype": "text/x-python",
   "name": "python",
   "nbconvert_exporter": "python",
   "pygments_lexer": "ipython3",
   "version": "3.6.3"
  }
 },
 "nbformat": 4,
 "nbformat_minor": 2
}
