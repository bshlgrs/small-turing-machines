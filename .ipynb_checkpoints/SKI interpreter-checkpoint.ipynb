{
 "cells": [
  {
   "cell_type": "code",
   "execution_count": 37,
   "metadata": {
    "collapsed": false
   },
   "outputs": [
    {
     "ename": "SyntaxError",
     "evalue": "invalid syntax (<ipython-input-37-e72cf4f3db02>, line 37)",
     "output_type": "error",
     "traceback": [
      "\u001b[0;36m  File \u001b[0;32m\"<ipython-input-37-e72cf4f3db02>\"\u001b[0;36m, line \u001b[0;32m37\u001b[0m\n\u001b[0;31m    (third, notThird) = get_term(notSecond):\u001b[0m\n\u001b[0m                                           ^\u001b[0m\n\u001b[0;31mSyntaxError\u001b[0m\u001b[0;31m:\u001b[0m invalid syntax\n"
     ]
    }
   ],
   "source": [
    "\n",
    "\n",
    "def get_term(string):\n",
    "    if string == \"\":\n",
    "        return None\n",
    "    else:\n",
    "        n = 1\n",
    "        for idx, x in enumerate(string):\n",
    "            if x == \"(\":\n",
    "                n += 1\n",
    "            else:\n",
    "                n -= 1\n",
    "                if n == 0:\n",
    "                    return string[:idx + 1], string[idx + 1:]\n",
    "                \n",
    "        return \"wut\"\n",
    "\n",
    "def operate(string):\n",
    "    if string == \"\":\n",
    "        return string\n",
    "    if string[0] == \"(\":\n",
    "        return string[1:]\n",
    "    if string[0] == \"I\" and len(string) > 1:\n",
    "        return string[1:]\n",
    "    if string[0] == \"K\":\n",
    "        if get_term(string[1:]):\n",
    "            (first, notFirst) = get_term(string[1:])\n",
    "            if notFirst:\n",
    "                (second, notSecond) = get_term(notFirst)\n",
    "                return first + notSecond\n",
    "    if string[0] == \"S\":\n",
    "        if get_term(string[1:]):\n",
    "            (first, notFirst) = get_term(string[1:])\n",
    "            if notFirst:\n",
    "                (second, notSecond) = get_term(notFirst)\n",
    "                if notSecond:\n",
    "                    (third, notThird) = get_term(notSecond)\n",
    "                    return \"(\" + first + third + \"(\" + second + third + notThird \n",
    "    return string"
   ]
  },
  {
   "cell_type": "code",
   "execution_count": 32,
   "metadata": {
    "collapsed": false
   },
   "outputs": [
    {
     "data": {
      "text/plain": [
       "('((K(ISS', 'KK')"
      ]
     },
     "execution_count": 32,
     "metadata": {},
     "output_type": "execute_result"
    }
   ],
   "source": [
    "get_term(\"((K(ISSKK\")"
   ]
  },
  {
   "cell_type": "code",
   "execution_count": 33,
   "metadata": {
    "collapsed": false
   },
   "outputs": [
    {
     "data": {
      "text/plain": [
       "''"
      ]
     },
     "execution_count": 33,
     "metadata": {},
     "output_type": "execute_result"
    }
   ],
   "source": [
    "\"\"[1:]"
   ]
  },
  {
   "cell_type": "code",
   "execution_count": 36,
   "metadata": {
    "collapsed": false
   },
   "outputs": [
    {
     "data": {
      "text/plain": [
       "'KKK'"
      ]
     },
     "execution_count": 36,
     "metadata": {},
     "output_type": "execute_result"
    }
   ],
   "source": [
    "operate(\"KKKKK\")"
   ]
  },
  {
   "cell_type": "code",
   "execution_count": null,
   "metadata": {
    "collapsed": true
   },
   "outputs": [],
   "source": []
  }
 ],
 "metadata": {
  "kernelspec": {
   "display_name": "Python 3",
   "language": "python",
   "name": "python3"
  },
  "language_info": {
   "codemirror_mode": {
    "name": "ipython",
    "version": 3
   },
   "file_extension": ".py",
   "mimetype": "text/x-python",
   "name": "python",
   "nbconvert_exporter": "python",
   "pygments_lexer": "ipython3",
   "version": "3.6.3"
  }
 },
 "nbformat": 4,
 "nbformat_minor": 2
}
